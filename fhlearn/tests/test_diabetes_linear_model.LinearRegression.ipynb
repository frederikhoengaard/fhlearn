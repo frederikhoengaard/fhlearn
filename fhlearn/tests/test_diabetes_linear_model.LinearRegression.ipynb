{
 "cells": [
  {
   "cell_type": "markdown",
   "metadata": {},
   "source": [
    "## Test of module linear_model.LinearRegression with diabetes data\n",
    "\n",
    "Remember to move this notebook to parent directory to execute tests."
   ]
  },
  {
   "cell_type": "code",
   "execution_count": 1,
   "metadata": {},
   "outputs": [],
   "source": [
    "import numpy as np\n",
    "import sklearn.model_selection\n",
    "#from sklearn.metrics import r2_score\n",
    "from metrics import mean_squared_error as fh_mse\n",
    "from metrics import r2_score as fh_r2"
   ]
  },
  {
   "cell_type": "code",
   "execution_count": 2,
   "metadata": {},
   "outputs": [],
   "source": [
    "# load data\n",
    "\n",
    "data = np.loadtxt('data/diabetes.csv',delimiter=',')\n",
    "\n",
    "features, targets = data[:,:-1], data[:,-1]\n",
    "\n",
    "X_train, X_test, y_train, y_test = sklearn.model_selection.train_test_split(features, targets, test_size=0.2, \n",
    "                                                                            random_state=42)"
   ]
  },
  {
   "cell_type": "code",
   "execution_count": 3,
   "metadata": {},
   "outputs": [
    {
     "name": "stdout",
     "output_type": "stream",
     "text": [
      "Coefficients: \n",
      " [  37.90031426 -241.96624835  542.42575342  347.70830529 -931.46126093\n",
      "  518.04405547  163.40353476  275.31003837  736.18909839   48.67112488]\n",
      "Mean squared error: 2900.17\n",
      "Coefficient of determination: 0.45\n",
      "fh R2 0.45260660216173676\n"
     ]
    }
   ],
   "source": [
    "# fhlearn model\n",
    "\n",
    "from linear_model import LinearRegression as fh_model\n",
    "\n",
    "# Create linear regression object\n",
    "regr = fh_model()\n",
    "\n",
    "# Train the model using the training sets\n",
    "regr.fit(X_train, y_train)\n",
    "\n",
    "# Make predictions using the testing set\n",
    "y_pred = regr.predict(X_test)\n",
    "\n",
    "f_mse = fh_mse(y_test,y_pred)\n",
    "f_r2 = fh_r2(y_test,y_pred)\n",
    "\n",
    "# The coefficients\n",
    "print('Coefficients: \\n', regr.coef_)\n",
    "# The mean squared error\n",
    "print('Mean squared error: %.2f'\n",
    "      % f_mse)\n",
    "# The coefficient of determination: 1 is perfect prediction\n",
    "print('Coefficient of determination: %.2f'\n",
    "      % f_r2)\n",
    "\n",
    "print('fh R2',regr.score(X_test,y_test))"
   ]
  },
  {
   "cell_type": "code",
   "execution_count": 4,
   "metadata": {},
   "outputs": [
    {
     "name": "stdout",
     "output_type": "stream",
     "text": [
      "Coefficients: \n",
      " [  37.90031426 -241.96624835  542.42575342  347.70830529 -931.46126093\n",
      "  518.04405547  163.40353476  275.31003837  736.18909839   48.67112488]\n",
      "Mean squared error: 2900.17\n",
      "Coefficient of determination: 0.45\n",
      "fh R2 0.452606602161738\n"
     ]
    }
   ],
   "source": [
    "# sklearn model\n",
    "\n",
    "from sklearn.linear_model import LinearRegression as sk_model\n",
    "\n",
    "regr = sk_model()\n",
    "\n",
    "# Train the model using the training sets\n",
    "regr.fit(X_train, y_train)\n",
    "\n",
    "# Make predictions using the testing set\n",
    "sk_y_pred = regr.predict(X_test)\n",
    "\n",
    "sk_mse = fh_mse(y_test,sk_y_pred)\n",
    "sk_r2 = fh_r2(y_test,sk_y_pred)\n",
    "\n",
    "# The coefficients\n",
    "print('Coefficients: \\n', regr.coef_)\n",
    "# The mean squared error\n",
    "print('Mean squared error: %.2f'\n",
    "      % sk_mse)\n",
    "# The coefficient of determination: 1 is perfect prediction\n",
    "print('Coefficient of determination: %.2f'\n",
    "      % sk_r2)\n",
    "\n",
    "print('fh R2',regr.score(X_test,y_test))"
   ]
  },
  {
   "cell_type": "code",
   "execution_count": 5,
   "metadata": {},
   "outputs": [
    {
     "name": "stdout",
     "output_type": "stream",
     "text": [
      "fhlearn and sklearn making similar predictions on the test features within a tolerance of 0.00000001\n"
     ]
    }
   ],
   "source": [
    "if np.allclose(y_pred, sk_y_pred, rtol=1e-05, atol=1e-08):\n",
    "    print('fhlearn and sklearn making similar predictions on the test features within a tolerance of 0.00000001')\n",
    "else:\n",
    "    print('fhlearn and sklearn predictions differ :(')"
   ]
  },
  {
   "cell_type": "code",
   "execution_count": 6,
   "metadata": {},
   "outputs": [
    {
     "name": "stdout",
     "output_type": "stream",
     "text": [
      "fhlearn and sklearn computing similar MSE\n"
     ]
    }
   ],
   "source": [
    "if round(f_mse,8) == round(sk_mse,8):\n",
    "    print('fhlearn and sklearn computing similar MSE')\n",
    "else:\n",
    "    print('fhlearn and sklearn computing differing MSE :(')"
   ]
  },
  {
   "cell_type": "code",
   "execution_count": 7,
   "metadata": {},
   "outputs": [
    {
     "name": "stdout",
     "output_type": "stream",
     "text": [
      "fhlearn and sklearn computing similar R2\n"
     ]
    }
   ],
   "source": [
    "if round(f_r2,8) == round(sk_r2,8):\n",
    "    print('fhlearn and sklearn computing similar R2')\n",
    "else:\n",
    "    print('fhlearn and sklearn computing differing R2 :(')"
   ]
  },
  {
   "cell_type": "code",
   "execution_count": null,
   "metadata": {},
   "outputs": [],
   "source": []
  }
 ],
 "metadata": {
  "kernelspec": {
   "display_name": "Python 3",
   "language": "python",
   "name": "python3"
  },
  "language_info": {
   "codemirror_mode": {
    "name": "ipython",
    "version": 3
   },
   "file_extension": ".py",
   "mimetype": "text/x-python",
   "name": "python",
   "nbconvert_exporter": "python",
   "pygments_lexer": "ipython3",
   "version": "3.8.3"
  }
 },
 "nbformat": 4,
 "nbformat_minor": 4
}
