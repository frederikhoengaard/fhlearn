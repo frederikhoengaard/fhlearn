{
 "cells": [
  {
   "cell_type": "markdown",
   "metadata": {},
   "source": [
    "## Test of module model_selection.train_test_split\n",
    "Remember to move this notebook to parent directory to execute tests."
   ]
  },
  {
   "cell_type": "code",
   "execution_count": 1,
   "metadata": {},
   "outputs": [],
   "source": [
    "import numpy as np"
   ]
  },
  {
   "cell_type": "code",
   "execution_count": 2,
   "metadata": {},
   "outputs": [],
   "source": [
    "# load some data\n",
    "\n",
    "data = np.loadtxt('data/iris.csv',delimiter=',')\n",
    "\n",
    "X,y = data[:,:-1], data[:,-1]\n"
   ]
  },
  {
   "cell_type": "code",
   "execution_count": 3,
   "metadata": {},
   "outputs": [],
   "source": [
    "from model_selection import train_test_split\n",
    "\n",
    "X_train, X_test, y_train, y_test = train_test_split(data,test_size=0.2, random_state=42, shuffle=True)"
   ]
  },
  {
   "cell_type": "code",
   "execution_count": 4,
   "metadata": {},
   "outputs": [],
   "source": [
    "# compare with sklearn\n",
    "\n",
    "import sklearn.model_selection\n",
    "\n",
    "sk_X_train, sk_X_test, sk_y_train, sk_y_test = sklearn.model_selection.train_test_split(X,y, test_size=0.2, \n",
    "                                                                                        random_state=42, \n",
    "                                                                                        shuffle=True)\n"
   ]
  },
  {
   "cell_type": "code",
   "execution_count": 5,
   "metadata": {},
   "outputs": [
    {
     "name": "stdout",
     "output_type": "stream",
     "text": [
      "All datasets are exactly equal!\n"
     ]
    }
   ],
   "source": [
    "if np.array_equal(X_train, sk_X_train) and np.array_equal(X_test, sk_X_test) and np.array_equal(y_train, sk_y_train) and np.array_equal(y_test, sk_y_test):\n",
    "    print('All datasets are exactly equal!')\n",
    "else:\n",
    "    print('Datasets not equal. Consider checking random_state parameter.')"
   ]
  }
 ],
 "metadata": {
  "kernelspec": {
   "display_name": "Python 3",
   "language": "python",
   "name": "python3"
  },
  "language_info": {
   "codemirror_mode": {
    "name": "ipython",
    "version": 3
   },
   "file_extension": ".py",
   "mimetype": "text/x-python",
   "name": "python",
   "nbconvert_exporter": "python",
   "pygments_lexer": "ipython3",
   "version": "3.8.3"
  }
 },
 "nbformat": 4,
 "nbformat_minor": 4
}
