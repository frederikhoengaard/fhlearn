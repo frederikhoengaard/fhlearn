{
 "cells": [
  {
   "cell_type": "markdown",
   "metadata": {},
   "source": [
    "## Test of module preprocessing.StandardScaler\n",
    "\n",
    "Remember to move this notebook to parent directory to execute tests."
   ]
  },
  {
   "cell_type": "code",
   "execution_count": 1,
   "metadata": {},
   "outputs": [],
   "source": [
    "import numpy as np\n",
    "import preprocessing"
   ]
  },
  {
   "cell_type": "code",
   "execution_count": 2,
   "metadata": {},
   "outputs": [],
   "source": [
    "# load some data\n",
    "\n",
    "train = np.loadtxt('data/glass_data/df_train.csv',delimiter=',',skiprows=1)\n",
    "\n",
    "X,y = train[:,:-1],train[:,-1]"
   ]
  },
  {
   "cell_type": "code",
   "execution_count": 3,
   "metadata": {},
   "outputs": [],
   "source": [
    "# try and scale\n",
    "\n",
    "scaler = preprocessing.StandardScaler()\n",
    "#scaler.fit(X)\n",
    "\n",
    "fh_transformed_X = scaler.fit_transform(X)"
   ]
  },
  {
   "cell_type": "code",
   "execution_count": 4,
   "metadata": {},
   "outputs": [],
   "source": [
    "# sklearn\n",
    "\n",
    "import sklearn.preprocessing\n",
    "\n",
    "\n",
    "\n",
    "sklearn_scaler = sklearn.preprocessing.StandardScaler()\n",
    "#sklearn_scaler.fit(X)\n",
    "\n",
    "sk_transformed_X = sklearn_scaler.fit_transform(X)"
   ]
  },
  {
   "cell_type": "code",
   "execution_count": 5,
   "metadata": {},
   "outputs": [
    {
     "name": "stdout",
     "output_type": "stream",
     "text": [
      "Success!\n",
      "\n",
      "fhlearn produces same output as scikit-learn on with the tested functions and data.\n"
     ]
    }
   ],
   "source": [
    "if np.array_equal(fh_transformed_X, sk_transformed_X):\n",
    "    print('Success!\\n\\nfhlearn produces same output as scikit-learn on with the tested functions and data.')"
   ]
  },
  {
   "cell_type": "code",
   "execution_count": 6,
   "metadata": {},
   "outputs": [],
   "source": [
    "#X"
   ]
  },
  {
   "cell_type": "code",
   "execution_count": null,
   "metadata": {},
   "outputs": [],
   "source": []
  }
 ],
 "metadata": {
  "kernelspec": {
   "display_name": "Python 3",
   "language": "python",
   "name": "python3"
  },
  "language_info": {
   "codemirror_mode": {
    "name": "ipython",
    "version": 3
   },
   "file_extension": ".py",
   "mimetype": "text/x-python",
   "name": "python",
   "nbconvert_exporter": "python",
   "pygments_lexer": "ipython3",
   "version": "3.8.3"
  }
 },
 "nbformat": 4,
 "nbformat_minor": 4
}
