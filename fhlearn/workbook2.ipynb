{
 "metadata": {
  "language_info": {
   "codemirror_mode": {
    "name": "ipython",
    "version": 3
   },
   "file_extension": ".py",
   "mimetype": "text/x-python",
   "name": "python",
   "nbconvert_exporter": "python",
   "pygments_lexer": "ipython3",
   "version": "3.8.3-final"
  },
  "orig_nbformat": 2,
  "kernelspec": {
   "name": "python3",
   "display_name": "Python 3.8.3 64-bit ('base': conda)",
   "metadata": {
    "interpreter": {
     "hash": "2b74a64e685d691cc3a858d74e97caca872eac03cded7eb06f3271f4ad55765e"
    }
   }
  }
 },
 "nbformat": 4,
 "nbformat_minor": 2,
 "cells": [
  {
   "cell_type": "code",
   "execution_count": 1055,
   "metadata": {},
   "outputs": [],
   "source": [
    "import numpy as np\n",
    "import tree\n",
    "import metrics\n",
    "from sklearn.metrics import accuracy_score, f1_score "
   ]
  },
  {
   "cell_type": "code",
   "execution_count": 1056,
   "metadata": {},
   "outputs": [],
   "source": [
    "df_train = np.loadtxt('data/glass_data/df_train.csv',delimiter=',',skiprows=1)\n",
    "df_test = np.loadtxt('data/glass_data/df_test.csv',delimiter=',',skiprows=1)\n",
    "\n",
    "X_train, y_train = df_train[:,:-1], df_train[:,-1]\n",
    "\n",
    "X_test, y_test = df_test[:,:-1], df_test[:,-1]"
   ]
  },
  {
   "cell_type": "code",
   "execution_count": 1057,
   "metadata": {},
   "outputs": [
    {
     "output_type": "stream",
     "name": "stdout",
     "text": [
      "sklearn accuracy: 73.84615384615385 %\n"
     ]
    }
   ],
   "source": [
    "import sklearn\n",
    "\n",
    "sk = sklearn.tree.DecisionTreeClassifier()\n",
    "sk.fit(X_train,y_train)\n",
    "y_pred = sk.predict(X_test)\n",
    "print('sklearn accuracy:',metrics.accuracy_score(y_test,y_pred) * 100 ,'%')"
   ]
  },
  {
   "cell_type": "code",
   "execution_count": 1058,
   "metadata": {},
   "outputs": [
    {
     "output_type": "stream",
     "name": "stdout",
     "text": [
      "random_state: fhlearn accuracy: 78.46153846153847 %\n"
     ]
    }
   ],
   "source": [
    "import tree\n",
    "\n",
    "seed = 36\n",
    "\n",
    "dt = sklearn.tree.DecisionTreeClassifier(random_state=36)\n",
    "dt.fit(X_train,y_train)\n",
    "y_pred = dt.predict(X_test)\n",
    "\n",
    "print('random_state:',seed, 'fhlearn accuracy:',metrics.accuracy_score(y_test,y_pred) * 100 ,'%')"
   ]
  },
  {
   "cell_type": "code",
   "execution_count": null,
   "metadata": {},
   "outputs": [],
   "source": []
  }
 ]
}