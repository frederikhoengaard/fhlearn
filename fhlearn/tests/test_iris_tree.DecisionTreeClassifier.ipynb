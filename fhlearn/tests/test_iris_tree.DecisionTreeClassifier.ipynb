{
 "cells": [
  {
   "cell_type": "markdown",
   "metadata": {},
   "source": [
    "## Test of module tree.DecisionTreeClassifier with iris data\n",
    "\n",
    "Remember to move this notebook to parent directory to execute tests."
   ]
  },
  {
   "cell_type": "code",
   "execution_count": 1,
   "metadata": {},
   "outputs": [],
   "source": [
    "import numpy as np\n",
    "import tree\n",
    "import metrics\n",
    "from sklearn.model_selection import train_test_split"
   ]
  },
  {
   "cell_type": "code",
   "execution_count": 2,
   "metadata": {},
   "outputs": [],
   "source": [
    "# load data\n",
    "\n",
    "data = np.loadtxt('data/iris.csv',delimiter=',')\n",
    "\n",
    "X,y = data[:,:-1],data[:,-1]"
   ]
  },
  {
   "cell_type": "code",
   "execution_count": 3,
   "metadata": {},
   "outputs": [],
   "source": [
    "# create splits\n",
    "\n",
    "X_train, X_test, y_train, y_test = train_test_split(X, y, test_size=0.2, random_state=42)"
   ]
  },
  {
   "cell_type": "code",
   "execution_count": 8,
   "metadata": {},
   "outputs": [],
   "source": [
    "# set hyperparameters globally\n",
    "\n",
    "mx_depth = 3"
   ]
  },
  {
   "cell_type": "code",
   "execution_count": 9,
   "metadata": {},
   "outputs": [
    {
     "name": "stdout",
     "output_type": "stream",
     "text": [
      "fhlearn model accuracy is 0.9666666666666667\n",
      "\n",
      "Predictions are [1. 0. 2. 1. 2. 0. 1. 2. 1. 1. 2. 0. 0. 0. 0. 1. 2. 1. 1. 2. 0. 2. 0. 2.\n",
      " 2. 2. 2. 2. 0. 0.]\n"
     ]
    }
   ],
   "source": [
    "# fhlearn model\n",
    "\n",
    "fh_tree = tree.DecisionTreeClassifier(max_depth=mx_depth)\n",
    "fh_tree.fit(X_train,y_train)\n",
    "\n",
    "y_pred_fh = fh_tree.predict(X_test)\n",
    "print('fhlearn model accuracy is',metrics.accuracy_score(y_test,y_pred_fh))\n",
    "print('\\nPredictions are',y_pred_fh)"
   ]
  },
  {
   "cell_type": "code",
   "execution_count": 10,
   "metadata": {},
   "outputs": [
    {
     "name": "stdout",
     "output_type": "stream",
     "text": [
      "sklearn model accuracy is 1.0\n",
      "\n",
      "Predictions are [1. 0. 2. 1. 1. 0. 1. 2. 1. 1. 2. 0. 0. 0. 0. 1. 2. 1. 1. 2. 0. 2. 0. 2.\n",
      " 2. 2. 2. 2. 0. 0.]\n"
     ]
    }
   ],
   "source": [
    "# sklearn model\n",
    "\n",
    "import sklearn.tree\n",
    "\n",
    "sk_tree = sklearn.tree.DecisionTreeClassifier(max_depth=mx_depth)\n",
    "sk_tree.fit(X_train,y_train)\n",
    "\n",
    "y_pred_sk = sk_tree.predict(X_test)\n",
    "print('sklearn model accuracy is',metrics.accuracy_score(y_test,y_pred_sk))\n",
    "print('\\nPredictions are',y_pred_sk)"
   ]
  },
  {
   "cell_type": "code",
   "execution_count": 11,
   "metadata": {},
   "outputs": [
    {
     "data": {
      "text/plain": [
       "array([ 0.,  0.,  0.,  0., -1.,  0.,  0.,  0.,  0.,  0.,  0.,  0.,  0.,\n",
       "        0.,  0.,  0.,  0.,  0.,  0.,  0.,  0.,  0.,  0.,  0.,  0.,  0.,\n",
       "        0.,  0.,  0.,  0.])"
      ]
     },
     "execution_count": 11,
     "metadata": {},
     "output_type": "execute_result"
    }
   ],
   "source": [
    "# are predictions the same? \n",
    "\n",
    "y_pred_sk - y_pred_fh"
   ]
  },
  {
   "cell_type": "markdown",
   "metadata": {},
   "source": [
    "### Conclusion\n",
    "\n",
    "Sklearn and fhlearn performs similarly. With max_depth = 3 fh_learn will occasionally mislabel sample 5 as 2 rather than the correct 1. This could be the result of sklearn setting sligthly different split thresholds because of float handling."
   ]
  },
  {
   "cell_type": "code",
   "execution_count": null,
   "metadata": {},
   "outputs": [],
   "source": []
  }
 ],
 "metadata": {
  "kernelspec": {
   "display_name": "Python 3",
   "language": "python",
   "name": "python3"
  },
  "language_info": {
   "codemirror_mode": {
    "name": "ipython",
    "version": 3
   },
   "file_extension": ".py",
   "mimetype": "text/x-python",
   "name": "python",
   "nbconvert_exporter": "python",
   "pygments_lexer": "ipython3",
   "version": "3.8.3"
  }
 },
 "nbformat": 4,
 "nbformat_minor": 4
}
