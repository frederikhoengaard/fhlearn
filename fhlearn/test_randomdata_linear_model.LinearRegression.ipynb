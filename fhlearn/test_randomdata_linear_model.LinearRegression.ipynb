{
 "cells": [
  {
   "cell_type": "markdown",
   "metadata": {},
   "source": [
    "## Test of module linear_model.LinearRegression with randomly generated data\n",
    "\n",
    "Remember to move this notebook to parent directory to execute tests."
   ]
  },
  {
   "cell_type": "code",
   "execution_count": 1,
   "metadata": {},
   "outputs": [],
   "source": [
    "import numpy as np\n",
    "import linear_model\n",
    "import matplotlib.pyplot as plt\n",
    "import metrics"
   ]
  },
  {
   "cell_type": "code",
   "execution_count": 2,
   "metadata": {},
   "outputs": [],
   "source": [
    "# generate some data\n",
    "\n",
    "X = 10 * np.random.rand(10, 1)\n",
    "y = 4 + 3 * X + np.random.randn(10, 1)"
   ]
  },
  {
   "cell_type": "code",
   "execution_count": 3,
   "metadata": {},
   "outputs": [
    {
     "data": {
      "text/plain": [
       "(0.0, 10.0, 0.0, 40.0)"
      ]
     },
     "execution_count": 3,
     "metadata": {},
     "output_type": "execute_result"
    },
    {
     "data": {
      "image/png": "[encoded data removed]",
      "text/plain": [
       "<Figure size 432x288 with 1 Axes>"
      ]
     },
     "metadata": {
      "needs_background": "light"
     },
     "output_type": "display_data"
    }
   ],
   "source": [
    "# plot the data\n",
    "\n",
    "plt.scatter(X,y)\n",
    "plt.axis([0, 10, 0, 40])"
   ]
  },
  {
   "cell_type": "code",
   "execution_count": 4,
   "metadata": {},
   "outputs": [
    {
     "name": "stdout",
     "output_type": "stream",
     "text": [
      "fh_learn intercept: [3.8979364]\n",
      "fh_learn coefficients: [[2.96794506]]\n"
     ]
    }
   ],
   "source": [
    "# fhlearn model\n",
    "\n",
    "test = np.array([[2],[3]])\n",
    "real_targets = test * 3 + 4\n",
    "\n",
    "fh_learn = linear_model.LinearRegression()\n",
    "fh_learn.fit(X,y)\n",
    "fh_pred = fh_learn.predict(test)\n",
    "\n",
    "print('fh_learn intercept:',fh_learn.intercept_)\n",
    "print('fh_learn coefficients:',fh_learn.coef_)"
   ]
  },
  {
   "cell_type": "code",
   "execution_count": 5,
   "metadata": {},
   "outputs": [
    {
     "name": "stdout",
     "output_type": "stream",
     "text": [
      "sk_learn intercept: [3.8979364]\n",
      "sk_learn coefficients: [[2.96794506]]\n"
     ]
    }
   ],
   "source": [
    "# sklearn model\n",
    "\n",
    "import sklearn.linear_model\n",
    "\n",
    "sk_learn = sklearn.linear_model.LinearRegression()\n",
    "sk_learn.fit(X,y)\n",
    "sk_pred = sk_learn.predict(test)\n",
    "\n",
    "print('sk_learn intercept:',sk_learn.intercept_)\n",
    "print('sk_learn coefficients:',sk_learn.coef_)"
   ]
  },
  {
   "cell_type": "code",
   "execution_count": 6,
   "metadata": {},
   "outputs": [
    {
     "name": "stdout",
     "output_type": "stream",
     "text": [
      "sklearn and fhlearn estimating similar intercept (with rounding)\n",
      "sklearn and fhlearn estimating similar coefficients (with rounding)\n"
     ]
    }
   ],
   "source": [
    "if np.around(fh_learn.intercept_,6) == np.around(sk_learn.intercept_,6):\n",
    "    print('sklearn and fhlearn estimating similar intercept (with rounding)')\n",
    "else:\n",
    "    print('Estimated intercepts differ :(')\n",
    "    \n",
    "if np.around(fh_learn.coef_,6) == np.around(sk_learn.coef_,6):\n",
    "    print('sklearn and fhlearn estimating similar coefficients (with rounding)')\n",
    "else:\n",
    "    print('Estimated coefficients differ :(')"
   ]
  },
  {
   "cell_type": "code",
   "execution_count": null,
   "metadata": {},
   "outputs": [],
   "source": []
  }
 ],
 "metadata": {
  "kernelspec": {
   "display_name": "Python 3",
   "language": "python",
   "name": "python3"
  },
  "language_info": {
   "codemirror_mode": {
    "name": "ipython",
    "version": 3
   },
   "file_extension": ".py",
   "mimetype": "text/x-python",
   "name": "python",
   "nbconvert_exporter": "python",
   "pygments_lexer": "ipython3",
   "version": "3.8.3"
  }
 },
 "nbformat": 4,
 "nbformat_minor": 4
}
